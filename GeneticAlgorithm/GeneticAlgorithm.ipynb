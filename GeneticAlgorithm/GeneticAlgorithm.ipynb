{
 "cells": [
  {
   "cell_type": "code",
   "execution_count": 1,
   "id": "8a40a693",
   "metadata": {},
   "outputs": [],
   "source": [
    "import numpy as np"
   ]
  },
  {
   "cell_type": "markdown",
   "id": "6256b12e",
   "metadata": {},
   "source": [
    "## Note to self\n",
    "- **Population size**\n",
    "    - Tune it to get optimal value\n",
    "- **Mutation**\n",
    "    - have a mutation rate of 10% to 30%. \n",
    "    - have a maximum delta for mutation change. So that weights are not changed drastically.\n",
    "- **Crossover** \n",
    "    - have to use one/many from Single/two point crossover or Uniform crossover.\n",
    "    - to generate new offspring/chromosome using two parent chromosome\n",
    "- **Balance factor**\n",
    "    - Give very preference to crossover or mutation depending on application.\n",
    "        - In Neural Network optimization I would try to give low preference to cross over\n",
    "- **Application**\n",
    "    - Neural network weights optimisation. \n",
    "    - I am , here, not concerned about other parameters like number of layers/ number of neurons per layers. Which I would ideally hardcore\n",
    "    "
   ]
  },
  {
   "cell_type": "code",
   "execution_count": 2,
   "id": "cbc943f3",
   "metadata": {},
   "outputs": [],
   "source": [
    "# Initialize genes(w) and population \n",
    "# neural network with 1 layer and 2 neurons\n",
    "def initlize_population(pop_size=10, n_params=3):\n",
    "    population = np.random.normal(0,0.1, size=(pop_size, n_params))\n",
    "    return population\n",
    "\n",
    "# Perform mutation with a mutation rate\n",
    "def perform_mutation(chromosome, mutation_rate=0.5):\n",
    "    for i in range(len(chromosome)):\n",
    "        # To apply mutation rate\n",
    "        if np.random.rand() < mutation_rate:\n",
    "            # To randomly increase and decrease weight - normal distribution with mean=0, std=0.1\n",
    "            chromosome[i] += np.random.normal(0,0.2)\n",
    "    return np.array(chromosome)\n",
    "\n",
    "# Perform cross over operation (often rarely)\n",
    "# Here parent1 and parent2 are chromosomes\n",
    "def perform_crossover(parent1, parent2):\n",
    "    # 1-point cross over performed \n",
    "    pt0 = np.random.randint(0, len(parent1) - 1)\n",
    "    child1 = np.concatenate((parent1[:pt0], parent2[pt0:]))\n",
    "    child2 = np.concatenate((parent2[:pt0], parent1[pt0:]))\n",
    "    \n",
    "    # 2-point cross over\n",
    "    pt1 = np.random.randint(0, len(parent1) - 1)\n",
    "    pt2 = np.random.randint(0, len(parent1) - 1)\n",
    "    if pt2 < pt1:\n",
    "        pt1, pt2 = pt2, pt1\n",
    "    \n",
    "    child3 = np.concatenate((parent1[:pt1], parent2[pt1:pt2], parent1[pt2:]))\n",
    "    return child1.reshape(1,-1), child2.reshape(1,-1), child3.reshape(1,-1)\n",
    "\n",
    "# Assigning genetically calculated weights to neural network layers\n",
    "# First two genes are weights and bias of neuron 1\n",
    "def assign_weights(best_chromosome, model):\n",
    "    input_nodes = 1\n",
    "    hidden_nodes = 2\n",
    "    output_nodes = 1\n",
    "    \n",
    "    # Vector of length = 4(2 weight + 2 bias) + 3 (2 weight + 1 bias) = 7\n",
    "    weights = best_chromosome\n",
    "    # reshaping for input layer's weights and bias\n",
    "    input_layer_weights = weights[:input_nodes * hidden_nodes].reshape(hidden_nodes, input_nodes)\n",
    "    used = input_nodes * hidden_nodes\n",
    "    input_layer_bias = weights[used : used + hidden_nodes].reshape(hidden_nodes, 1)\n",
    "    used += hidden_nodes    \n",
    "    \n",
    "    # reshaping for output layer's weights and bias\n",
    "    weights = weights[used:].copy()\n",
    "    output_layer_weights = weights[: hidden_nodes * output_nodes].reshape(output_nodes, hidden_nodes)\n",
    "    used = hidden_nodes * output_nodes\n",
    "    output_layer_bias = weights[used : ].reshape(1,1)\n",
    "    \n",
    "    model.W1 = input_layer_weights\n",
    "    model.B1 = input_layer_bias\n",
    "    model.W2 = output_layer_weights\n",
    "    model.B2 = output_layer_bias\n",
    "    \n",
    "    return model\n",
    "\n",
    "\n",
    "# Mean squared error --> lower is better\n",
    "def loss_fn(pred, target):\n",
    "    mse = np.mean((pred - target)**2)\n",
    "    return mse\n",
    "    \n",
    "# Fitness function - evaluate fitness of each chromosome in population \n",
    "def evaluate_fitness(model, population, X, y):\n",
    "    all_loss = []\n",
    "    for chromosome in population:\n",
    "        model = assign_weights(chromosome, model)\n",
    "        pred = model.predict(X)\n",
    "        loss = loss_fn(pred, y)\n",
    "        all_loss.append(loss)\n",
    "    return np.array(all_loss)    \n",
    "\n",
    "# Roulette wheel based selection of population for next generation. Size=k    \n",
    "def perform_selection(new_population, model, X, y, k=10):\n",
    "    fitness = evaluate_fitness(model, new_population, X, y)\n",
    "    fitness = fitness.reshape(-1)\n",
    "    # sorting from lowest to highest\n",
    "    sorted_fitness_index = np.argsort(fitness)\n",
    "    fitness = fitness[sorted_fitness_index]\n",
    "    new_population = new_population[sorted_fitness_index, :]\n",
    "    \n",
    "    # Roulette wheel selection\n",
    "    prob = fitness/np.sum(fitness)\n",
    "    cum_probs = np.cumsum(prob)\n",
    "    selected_index = []\n",
    "    for i in range(k):\n",
    "        r = np.random.rand()\n",
    "        index = np.where(cum_probs > r)[0][0]\n",
    "        \n",
    "        # Inverse index to give more priority to least values\n",
    "        index = len(fitness) - 1 - index\n",
    "        selected_index.append(index)\n",
    "    \n",
    "    selected_index = np.array(selected_index)\n",
    "    \n",
    "    # Selecting the corresponding population and loss for those index\n",
    "    selected_population = new_population[selected_index, :]\n",
    "    k_losses = fitness[selected_index]\n",
    "    \n",
    "    return selected_population, k_losses\n",
    "\n",
    "def GeneticAlgorithm(model, pop, X, y, crossover_rate, mutation_rate, k):\n",
    "    # Mutation\n",
    "    for j in range(len(pop)):\n",
    "        pop[j] = perform_mutation(pop[j], mutation_rate)\n",
    "    # Crossover\n",
    "    times = np.random.randint(1,5)\n",
    "    if np.random.rand() < crossover_rate:\n",
    "        for _ in range(times):\n",
    "            p1, p2 = np.random.choice(len(pop), 2)\n",
    "            child1, child2, child3 = perform_crossover(pop[p1], pop[p2])\n",
    "            pop = np.concatenate([pop, child1, child2, child3], axis=0)\n",
    "    # Selection\n",
    "    pop, losses = perform_selection(pop, model, X, y, k)\n",
    "    \n",
    "    return pop, losses\n",
    "    \n",
    "    "
   ]
  },
  {
   "cell_type": "markdown",
   "id": "ab142879",
   "metadata": {},
   "source": [
    "## Model and train loop\n",
    "- Need not to define model as class or train loop in this way.\n",
    "- I just want to make it consistent with my usual PyTorch implementations so that I can relate it easily"
   ]
  },
  {
   "cell_type": "code",
   "execution_count": 3,
   "id": "b66a0cac",
   "metadata": {},
   "outputs": [],
   "source": [
    "class Net():\n",
    "    def __init__(self, in_features=1, out_features=1):\n",
    "        self.W1 = np.random.rand(2,in_features)\n",
    "        self.B1 = np.random.rand(2,1)\n",
    "        self.W2 = np.random.rand(1,2)\n",
    "        self.B2 = np.random.rand(out_features,1)\n",
    "    def forward(self, X):\n",
    "        output = self.W1 @ X + self.B1\n",
    "        output = self.W2 @ output + self.B2\n",
    "        return output\n",
    "    def predict(self, X):\n",
    "        return self.forward(X)\n",
    "model = Net()"
   ]
  },
  {
   "cell_type": "code",
   "execution_count": 4,
   "id": "e8095c2f",
   "metadata": {},
   "outputs": [],
   "source": [
    "## Toy data\n",
    "\n",
    "X = np.arange(10).reshape(10,1)\n",
    "X_Norm = (X - X.mean())/ X.std()\n",
    "\n",
    "\n",
    "Y = np.array([1.0, 1.3, 3.1, 2.0, 5.0, 6.3, 6.6, 7.4, 8.0, 9.0])\n",
    "\n",
    "X_Norm = X_Norm.T\n",
    "Y = Y.T"
   ]
  },
  {
   "cell_type": "code",
   "execution_count": 5,
   "id": "cee3aa56",
   "metadata": {},
   "outputs": [],
   "source": [
    "def train(model, pop, generation, X, y, crossover_rate=0.5, mutation_rate=0.5, k=10):\n",
    "    losses_generation = []\n",
    "    losses = None\n",
    "    for i in range(generation):\n",
    "        \n",
    "        # Genetic Algorithm\n",
    "        pop, losses = GeneticAlgorithm(model, pop,X, y, crossover_rate, mutation_rate, k)\n",
    "        \n",
    "        # Displaying loss at each generation\n",
    "        print(min(losses))\n",
    "        final_loss = min(losses)\n",
    "        losses_generation.append(min(losses))\n",
    "        \n",
    "    return losses_generation, pop, losses\n",
    "        "
   ]
  },
  {
   "cell_type": "code",
   "execution_count": 6,
   "id": "c2ff7f5c",
   "metadata": {},
   "outputs": [
    {
     "name": "stdout",
     "output_type": "stream",
     "text": [
      "27.236903584232728\n",
      "24.25893396708448\n",
      "19.089776090567234\n",
      "20.92685151814306\n",
      "20.06023751728494\n",
      "14.656967044754008\n",
      "12.024063918485655\n",
      "12.59275950964213\n",
      "8.196578706222857\n",
      "11.19866804443804\n",
      "9.239198562011747\n",
      "10.179517547086725\n",
      "13.1992469179663\n",
      "11.40497581991529\n",
      "6.6577724296737015\n",
      "3.347946696114259\n",
      "2.3251258054340496\n",
      "2.3591546252473785\n",
      "1.269349430185874\n",
      "1.0926570294685547\n",
      "0.45082387951130815\n",
      "0.4110482706069285\n",
      "0.43781710302791293\n",
      "0.4379058576579906\n",
      "0.4238573301782198\n",
      "0.47137834390211164\n",
      "0.5391115771128385\n",
      "0.4040591859404006\n",
      "0.4073164231477017\n",
      "0.40589498377595506\n",
      "0.41073631039611247\n",
      "0.4209898397532763\n",
      "0.4241368920684163\n",
      "0.4028049818310726\n",
      "0.43831437035909093\n",
      "0.4324254478373074\n",
      "0.5587217733206\n",
      "0.42322623760749656\n",
      "0.4503387496934293\n",
      "0.4899937628260962\n",
      "0.4451970625433629\n",
      "0.4396980060784143\n",
      "0.42325874875474145\n",
      "0.41019415524238323\n",
      "0.4168177831200851\n",
      "0.4340770096266418\n",
      "0.4583233224023183\n",
      "0.4161071988977386\n",
      "0.4036945784995967\n",
      "0.47836300034650997\n",
      "0.503312119807305\n",
      "0.40558747292152886\n",
      "0.43006024974281143\n",
      "0.43568560607059165\n",
      "0.4127228726806256\n",
      "0.4049845505754173\n",
      "0.4083039449538428\n",
      "0.47099300765516405\n",
      "0.4289520247804438\n",
      "0.44816079296998773\n",
      "0.4893360920706423\n",
      "0.41206840991540733\n",
      "0.4113897797294689\n",
      "0.42375155168153295\n",
      "0.4131497098919521\n",
      "0.45429287237819266\n",
      "0.4780087477441704\n",
      "0.4232299555285711\n",
      "0.4110024701547875\n",
      "0.4352021140565928\n",
      "0.41983574933638995\n",
      "0.5707588007701672\n",
      "0.4634688566641583\n",
      "0.4130538142520296\n",
      "0.4152136300723347\n",
      "0.40356447722810956\n",
      "0.40968416113023676\n",
      "0.415483622089062\n",
      "0.404213773910773\n",
      "0.5627534155345676\n",
      "0.44231215659138645\n",
      "0.4163373985249351\n",
      "0.42684323921959394\n",
      "0.4032280515976391\n",
      "0.4207288174979097\n",
      "0.4263181819871284\n",
      "0.45270432035809904\n",
      "0.40898551668107785\n",
      "0.5451476043227506\n",
      "0.4114279546835247\n",
      "0.46600950112018447\n",
      "0.44631017838991277\n",
      "0.43255356822573976\n",
      "0.4223644077008178\n",
      "0.4075735308317644\n",
      "0.41743980303854755\n",
      "0.46202082575907344\n",
      "0.42130802021709013\n",
      "0.402937797167428\n",
      "0.4119556556079892\n"
     ]
    }
   ],
   "source": [
    "pop = initlize_population(100,7)\n",
    "losses, pop, final_loss = train(\n",
    "    model,pop, 100, X_Norm, Y, crossover_rate=0.5, mutation_rate=1, k=40\n",
    ")"
   ]
  },
  {
   "cell_type": "code",
   "execution_count": 7,
   "id": "3b936c50",
   "metadata": {},
   "outputs": [
    {
     "data": {
      "text/plain": [
       "<matplotlib.legend.Legend at 0x105072ca0>"
      ]
     },
     "execution_count": 7,
     "metadata": {},
     "output_type": "execute_result"
    },
    {
     "data": {
      "image/png": "[encoded data removed]",
      "text/plain": [
       "<Figure size 640x480 with 1 Axes>"
      ]
     },
     "metadata": {},
     "output_type": "display_data"
    }
   ],
   "source": [
    "import matplotlib.pyplot as plt\n",
    "plt.plot(losses)\n",
    "plt.legend(['Train Loss'])"
   ]
  },
  {
   "cell_type": "markdown",
   "id": "2899b479",
   "metadata": {},
   "source": [
    "### Remarks\n",
    "- seems like it struct to local optima !"
   ]
  },
  {
   "cell_type": "code",
   "execution_count": 8,
   "id": "b95bea63",
   "metadata": {},
   "outputs": [],
   "source": [
    "## Best weights\n",
    "index = np.argsort(final_loss)[0]\n",
    "weights = pop[index, :]\n",
    "model = assign_weights(weights, model)"
   ]
  },
  {
   "cell_type": "code",
   "execution_count": 9,
   "id": "555bea52",
   "metadata": {},
   "outputs": [
    {
     "data": {
      "text/plain": [
       "0.4119556556079892"
      ]
     },
     "execution_count": 9,
     "metadata": {},
     "output_type": "execute_result"
    }
   ],
   "source": [
    "final_loss[index]"
   ]
  },
  {
   "cell_type": "markdown",
   "id": "ff7f202d",
   "metadata": {},
   "source": [
    "## Visualize regression line"
   ]
  },
  {
   "cell_type": "code",
   "execution_count": 10,
   "id": "385ba7d4",
   "metadata": {},
   "outputs": [
    {
     "data": {
      "text/plain": [
       "[<matplotlib.lines.Line2D at 0x117aaf2e0>]"
      ]
     },
     "execution_count": 10,
     "metadata": {},
     "output_type": "execute_result"
    },
    {
     "data": {
      "image/png": "[encoded data removed]",
      "text/plain": [
       "<Figure size 640x480 with 1 Axes>"
      ]
     },
     "metadata": {},
     "output_type": "display_data"
    }
   ],
   "source": [
    "plt.plot(X_Norm.reshape(-1), Y, linestyle=\"\", marker='*')\n",
    "plt.plot(np.arange(10), model.predict(X_Norm).reshape(-1))"
   ]
  },
  {
   "cell_type": "markdown",
   "id": "8de17a07",
   "metadata": {},
   "source": [
    "#### Not an impressive line of best fit"
   ]
  },
  {
   "cell_type": "code",
   "execution_count": null,
   "id": "300aaac5",
   "metadata": {},
   "outputs": [],
   "source": []
  }
 ],
 "metadata": {
  "kernelspec": {
   "display_name": "Python 3.9 (pytorch)",
   "language": "python",
   "name": "pytorch"
  },
  "language_info": {
   "codemirror_mode": {
    "name": "ipython",
    "version": 3
   },
   "file_extension": ".py",
   "mimetype": "text/x-python",
   "name": "python",
   "nbconvert_exporter": "python",
   "pygments_lexer": "ipython3",
   "version": "3.9.15"
  }
 },
 "nbformat": 4,
 "nbformat_minor": 5
}
